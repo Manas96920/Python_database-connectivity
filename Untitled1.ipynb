{
 "cells": [
  {
   "cell_type": "code",
   "execution_count": 23,
   "id": "7a1bf01b",
   "metadata": {},
   "outputs": [],
   "source": [
    "import mysql.connector"
   ]
  },
  {
   "cell_type": "code",
   "execution_count": 24,
   "id": "0d6aa8d9",
   "metadata": {},
   "outputs": [],
   "source": [
    "my_db = mysql.connector.connect(host=\"localhost\",user=\"root\",passwd=\"mysql\")"
   ]
  },
  {
   "cell_type": "code",
   "execution_count": 25,
   "id": "d722d500",
   "metadata": {},
   "outputs": [],
   "source": [
    "my_cursor=my_db.cursor()"
   ]
  },
  {
   "cell_type": "code",
   "execution_count": 26,
   "id": "253563ac",
   "metadata": {},
   "outputs": [],
   "source": [
    "my_cursor.execute(\"show databases\")"
   ]
  },
  {
   "cell_type": "code",
   "execution_count": 27,
   "id": "1da67aed",
   "metadata": {},
   "outputs": [
    {
     "name": "stdout",
     "output_type": "stream",
     "text": [
      "('customers',)\n",
      "('employees',)\n",
      "('information_schema',)\n",
      "('intell',)\n",
      "('mysql',)\n",
      "('orderdetails',)\n",
      "('orders',)\n",
      "('performance_schema',)\n",
      "('products',)\n",
      "('sakila',)\n",
      "('shippers',)\n",
      "('sparta',)\n",
      "('sys',)\n",
      "('world',)\n"
     ]
    }
   ],
   "source": [
    "for i in my_cursor:\n",
    "    print(i)"
   ]
  },
  {
   "cell_type": "code",
   "execution_count": 28,
   "id": "4dcc9277",
   "metadata": {},
   "outputs": [],
   "source": [
    "my_db = mysql.connector.connect(host=\"localhost\",user=\"root\",passwd=\"mysql\",database=\"sparta\")"
   ]
  },
  {
   "cell_type": "code",
   "execution_count": 29,
   "id": "bbe169ba",
   "metadata": {},
   "outputs": [],
   "source": [
    "my_cursor=my_db.cursor()"
   ]
  },
  {
   "cell_type": "code",
   "execution_count": 30,
   "id": "ae36feff",
   "metadata": {},
   "outputs": [],
   "source": [
    "my_cursor.execute(\"show tables\")"
   ]
  },
  {
   "cell_type": "code",
   "execution_count": 31,
   "id": "16c9d636",
   "metadata": {},
   "outputs": [
    {
     "name": "stdout",
     "output_type": "stream",
     "text": [
      "('emp',)\n"
     ]
    }
   ],
   "source": [
    "for i in my_cursor:\n",
    "    print(i)"
   ]
  },
  {
   "cell_type": "code",
   "execution_count": 32,
   "id": "fcd9bb30",
   "metadata": {},
   "outputs": [],
   "source": [
    "my_cursor.execute(\"select * from emp\")"
   ]
  },
  {
   "cell_type": "code",
   "execution_count": 33,
   "id": "8c75deff",
   "metadata": {},
   "outputs": [
    {
     "name": "stdout",
     "output_type": "stream",
     "text": [
      "('Sam', 'New Yor')\n",
      "('Anne', 'Delhi')\n",
      "('Stalin', 'Moscow')\n",
      "('Bob', 'London')\n"
     ]
    }
   ],
   "source": [
    "for i in my_cursor:\n",
    "    print(i)"
   ]
  },
  {
   "cell_type": "code",
   "execution_count": 34,
   "id": "c75ff515",
   "metadata": {},
   "outputs": [],
   "source": [
    "sql=\"insert into emp(name,city) values (%s,%s)\"\n",
    "val=(\"Bob\",\"London\")"
   ]
  },
  {
   "cell_type": "code",
   "execution_count": 35,
   "id": "0b0bacf1",
   "metadata": {},
   "outputs": [],
   "source": [
    "my_cursor.execute(sql,val)"
   ]
  },
  {
   "cell_type": "code",
   "execution_count": 36,
   "id": "d8aaea22",
   "metadata": {},
   "outputs": [],
   "source": [
    "my_db.commit()"
   ]
  },
  {
   "cell_type": "code",
   "execution_count": 37,
   "id": "1d7d1e36",
   "metadata": {},
   "outputs": [],
   "source": [
    "for i in my_cursor:\n",
    "    print(i)"
   ]
  },
  {
   "cell_type": "code",
   "execution_count": 38,
   "id": "c4ba5c13",
   "metadata": {},
   "outputs": [],
   "source": [
    "my_cursor.execute(\"select * from emp\")"
   ]
  },
  {
   "cell_type": "code",
   "execution_count": 39,
   "id": "875485f2",
   "metadata": {},
   "outputs": [
    {
     "name": "stdout",
     "output_type": "stream",
     "text": [
      "('Sam', 'New Yor')\n",
      "('Anne', 'Delhi')\n",
      "('Stalin', 'Moscow')\n",
      "('Bob', 'London')\n",
      "('Bob', 'London')\n"
     ]
    }
   ],
   "source": [
    "for i in my_cursor:\n",
    "    print(i)"
   ]
  },
  {
   "cell_type": "code",
   "execution_count": 41,
   "id": "1a15d1af",
   "metadata": {},
   "outputs": [],
   "source": [
    "my_cursor.execute(\"delete from emp where city='London'\")"
   ]
  },
  {
   "cell_type": "code",
   "execution_count": 43,
   "id": "23f9a77c",
   "metadata": {},
   "outputs": [],
   "source": [
    "my_db.commit()"
   ]
  },
  {
   "cell_type": "code",
   "execution_count": 46,
   "id": "36881ac9",
   "metadata": {},
   "outputs": [],
   "source": [
    "my_cursor.execute(\"select * from emp\")"
   ]
  },
  {
   "cell_type": "code",
   "execution_count": 47,
   "id": "3e8ff799",
   "metadata": {},
   "outputs": [
    {
     "name": "stdout",
     "output_type": "stream",
     "text": [
      "('Sam', 'New Yor')\n",
      "('Anne', 'Delhi')\n",
      "('Stalin', 'Moscow')\n"
     ]
    }
   ],
   "source": [
    "for i in my_cursor:\n",
    "    print(i)"
   ]
  },
  {
   "cell_type": "code",
   "execution_count": 48,
   "id": "14f3b091",
   "metadata": {},
   "outputs": [],
   "source": [
    "sql=\"insert into emp(name,city) values (%s,%s)\"\n",
    "val=(\"Bob\",\"London\")"
   ]
  },
  {
   "cell_type": "code",
   "execution_count": 49,
   "id": "8ecc39aa",
   "metadata": {},
   "outputs": [],
   "source": [
    "my_cursor.execute(sql,val)"
   ]
  },
  {
   "cell_type": "code",
   "execution_count": 50,
   "id": "392f151b",
   "metadata": {},
   "outputs": [],
   "source": [
    "my_db.commit()"
   ]
  },
  {
   "cell_type": "code",
   "execution_count": 51,
   "id": "73c49298",
   "metadata": {},
   "outputs": [],
   "source": [
    "my_cursor.execute(\"select * from emp\")"
   ]
  },
  {
   "cell_type": "code",
   "execution_count": 52,
   "id": "01f5a9ef",
   "metadata": {},
   "outputs": [
    {
     "name": "stdout",
     "output_type": "stream",
     "text": [
      "('Sam', 'New Yor')\n",
      "('Anne', 'Delhi')\n",
      "('Stalin', 'Moscow')\n",
      "('Bob', 'London')\n"
     ]
    }
   ],
   "source": [
    "for i in my_cursor:\n",
    "    print(i)"
   ]
  },
  {
   "cell_type": "code",
   "execution_count": 53,
   "id": "62f502bc",
   "metadata": {},
   "outputs": [],
   "source": [
    "sql=\"insert into emp(name,city) values (%s,%s)\"\n",
    "val=[(\"Julie\",\"New Jersey\"),(\"Rupert\",\"Paris\"),(\"Edward\",\"Spain\")]"
   ]
  },
  {
   "cell_type": "code",
   "execution_count": 54,
   "id": "5c09d702",
   "metadata": {},
   "outputs": [],
   "source": [
    "my_cursor.executemany(sql,val)"
   ]
  },
  {
   "cell_type": "code",
   "execution_count": 55,
   "id": "7175b785",
   "metadata": {},
   "outputs": [],
   "source": [
    "my_db.commit()"
   ]
  },
  {
   "cell_type": "code",
   "execution_count": 56,
   "id": "b1e2e6ab",
   "metadata": {},
   "outputs": [],
   "source": [
    "my_cursor.execute(\"select * from emp\")"
   ]
  },
  {
   "cell_type": "code",
   "execution_count": 57,
   "id": "82aadcc7",
   "metadata": {},
   "outputs": [
    {
     "name": "stdout",
     "output_type": "stream",
     "text": [
      "('Sam', 'New Yor')\n",
      "('Anne', 'Delhi')\n",
      "('Stalin', 'Moscow')\n",
      "('Bob', 'London')\n",
      "('Julie', 'New Jersey')\n",
      "('Rupert', 'Paris')\n",
      "('Edward', 'Spain')\n"
     ]
    }
   ],
   "source": [
    "for i in my_cursor:\n",
    "    print(i)"
   ]
  },
  {
   "cell_type": "code",
   "execution_count": 58,
   "id": "da4751ce",
   "metadata": {},
   "outputs": [],
   "source": [
    "my_cursor.execute(\"update emp set name='Anjali' where city='Delhi'\")"
   ]
  },
  {
   "cell_type": "code",
   "execution_count": 59,
   "id": "4636ad79",
   "metadata": {},
   "outputs": [],
   "source": [
    "my_db.commit()"
   ]
  },
  {
   "cell_type": "code",
   "execution_count": 60,
   "id": "d1684c72",
   "metadata": {},
   "outputs": [],
   "source": [
    "my_cursor.execute(\"select * from emp\")"
   ]
  },
  {
   "cell_type": "code",
   "execution_count": 61,
   "id": "3eb8d58f",
   "metadata": {},
   "outputs": [
    {
     "name": "stdout",
     "output_type": "stream",
     "text": [
      "('Sam', 'New Yor')\n",
      "('Anjali', 'Delhi')\n",
      "('Stalin', 'Moscow')\n",
      "('Bob', 'London')\n",
      "('Julie', 'New Jersey')\n",
      "('Rupert', 'Paris')\n",
      "('Edward', 'Spain')\n"
     ]
    }
   ],
   "source": [
    "for i in my_cursor:\n",
    "    print(i)"
   ]
  },
  {
   "cell_type": "code",
   "execution_count": null,
   "id": "8896a8e6",
   "metadata": {},
   "outputs": [],
   "source": []
  }
 ],
 "metadata": {
  "kernelspec": {
   "display_name": "Python 3",
   "language": "python",
   "name": "python3"
  },
  "language_info": {
   "codemirror_mode": {
    "name": "ipython",
    "version": 3
   },
   "file_extension": ".py",
   "mimetype": "text/x-python",
   "name": "python",
   "nbconvert_exporter": "python",
   "pygments_lexer": "ipython3",
   "version": "3.8.8"
  }
 },
 "nbformat": 4,
 "nbformat_minor": 5
}
